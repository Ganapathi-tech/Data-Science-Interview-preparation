{
  "nbformat": 4,
  "nbformat_minor": 0,
  "metadata": {
    "colab": {
      "name": "EgStr.ipynb",
      "provenance": [],
      "include_colab_link": true
    },
    "kernelspec": {
      "name": "python3",
      "display_name": "Python 3"
    }
  },
  "cells": [
    {
      "cell_type": "markdown",
      "metadata": {
        "id": "view-in-github",
        "colab_type": "text"
      },
      "source": [
        "<a href=\"https://colab.research.google.com/github/Ganapathi-tech/Data-Science-Interview-preparation/blob/main/EgStr.ipynb\" target=\"_parent\"><img src=\"https://colab.research.google.com/assets/colab-badge.svg\" alt=\"Open In Colab\"/></a>"
      ]
    },
    {
      "cell_type": "code",
      "metadata": {
        "colab": {
          "base_uri": "https://localhost:8080/"
        },
        "id": "33f_KKj9c511",
        "outputId": "52c5e3cc-39d9-46de-95b9-be31f0d6d9e8"
      },
      "source": [
        "num = \"90.54.787\"\n",
        "\n",
        "num = num.replace(\".\",\"\",1)\n",
        "\n",
        "a = num.isdigit()\n",
        "\n",
        "if a == True :\n",
        "    print(\"Entered Number is Float Type\")\n",
        "else:\n",
        "    print(\"Not a Float\")"
      ],
      "execution_count": null,
      "outputs": [
        {
          "output_type": "stream",
          "text": [
            "Not a Float\n"
          ],
          "name": "stdout"
        }
      ]
    },
    {
      "cell_type": "code",
      "metadata": {
        "colab": {
          "base_uri": "https://localhost:8080/"
        },
        "id": "7ZAJhb5tdFW6",
        "outputId": "c2b216d8-34d7-4e09-ff51-32b555a054e8"
      },
      "source": [
        "num1 = input(\"Enter  first Number : \")\n",
        "num2 = input(\"Enter Second Number : \")\n",
        "\n",
        "a = num1 + num2\n",
        "print(\"Num1 Type : \",type(num1))\n",
        "print(\"Num2 Type: \",type(num2))\n",
        "print(a)"
      ],
      "execution_count": null,
      "outputs": [
        {
          "output_type": "stream",
          "text": [
            "Enter  first Number : 43\n",
            "Enter Second Number : 54\n",
            "Num1 Type :  <class 'str'>\n",
            "Num2 Type:  <class 'str'>\n",
            "4354\n"
          ],
          "name": "stdout"
        }
      ]
    },
    {
      "cell_type": "code",
      "metadata": {
        "colab": {
          "base_uri": "https://localhost:8080/"
        },
        "id": "tn1HEtC0dkzl",
        "outputId": "03c30095-a0b7-4494-8fda-6f80477b924d"
      },
      "source": [
        "num1 = input(\"Enter  first Number : \")\n",
        "num2 = input(\"Enter Second Number : \")\n",
        "\n",
        "a = int(num1) \n",
        "b = int(num2)\n",
        "\n",
        "print(\"Type A\", type(a))\n",
        "print(id(a))\n",
        "print(\"Type B :\", type(b))\n",
        "print(id(b))\n",
        "print(\"***********************\")\n",
        "print(\"Type Num1:\", type(num1))\n",
        "print(id(num1))\n",
        "print(\"Type Num2:\", type(num2))\n",
        "print(id(num2))"
      ],
      "execution_count": null,
      "outputs": [
        {
          "output_type": "stream",
          "text": [
            "Enter  first Number : 3\n",
            "Enter Second Number : 2\n",
            "Type A <class 'int'>\n",
            "10914560\n",
            "Type B : <class 'int'>\n",
            "10914528\n",
            "***********************\n",
            "Type Num1: <class 'str'>\n",
            "139851636687960\n",
            "Type Num2: <class 'str'>\n",
            "139851636687288\n"
          ],
          "name": "stdout"
        }
      ]
    },
    {
      "cell_type": "code",
      "metadata": {
        "colab": {
          "base_uri": "https://localhost:8080/"
        },
        "id": "orri4rpqgctF",
        "outputId": "ea7703a4-bfe8-4970-f952-f7fa75d4eb75"
      },
      "source": [
        "# First type of Conversion...\n",
        "\n",
        "num1 = input(\"Enter  first Number : \")\n",
        "num2 = input(\"Enter Second Number : \")\n",
        "\n",
        "a = int(num1) + int(num2)\n",
        "print(a)\n",
        "\n"
      ],
      "execution_count": null,
      "outputs": [
        {
          "output_type": "stream",
          "text": [
            "Enter  first Number : 4\n",
            "Enter Second Number : 5\n",
            "9\n"
          ],
          "name": "stdout"
        }
      ]
    },
    {
      "cell_type": "code",
      "metadata": {
        "colab": {
          "base_uri": "https://localhost:8080/",
          "height": 284
        },
        "id": "TxOdr-Agguhi",
        "outputId": "72842aa2-3eec-4028-db30-1a676722110f"
      },
      "source": [
        "# Second type of Conversion...\n",
        "\n",
        "num1 = input(\"Enter  first Number : \")\n",
        "num2 = input(\"Enter Second Number : \")\n",
        "x = int(num1)\n",
        "y = int(num2)\n",
        "\n",
        "# a = int(num1) + int(num2)\n",
        "# b = int(num1) - int(num2)\n",
        "# c = int(num1) * int(num2)\n",
        "a = x+y\n",
        "b = x-y\n",
        "c = x*y\n",
        "\n",
        "print(a)\n",
        "print(b)\n",
        "print(c)\n",
        "\n"
      ],
      "execution_count": null,
      "outputs": [
        {
          "output_type": "stream",
          "text": [
            "Enter  first Number : 10\n",
            "Enter Second Number : b\n"
          ],
          "name": "stdout"
        },
        {
          "output_type": "error",
          "ename": "ValueError",
          "evalue": "ignored",
          "traceback": [
            "\u001b[0;31m---------------------------------------------------------------------------\u001b[0m",
            "\u001b[0;31mValueError\u001b[0m                                Traceback (most recent call last)",
            "\u001b[0;32m<ipython-input-16-4ae3d8e26270>\u001b[0m in \u001b[0;36m<module>\u001b[0;34m()\u001b[0m\n\u001b[1;32m      4\u001b[0m \u001b[0mnum2\u001b[0m \u001b[0;34m=\u001b[0m \u001b[0minput\u001b[0m\u001b[0;34m(\u001b[0m\u001b[0;34m\"Enter Second Number : \"\u001b[0m\u001b[0;34m)\u001b[0m\u001b[0;34m\u001b[0m\u001b[0;34m\u001b[0m\u001b[0m\n\u001b[1;32m      5\u001b[0m \u001b[0mx\u001b[0m \u001b[0;34m=\u001b[0m \u001b[0mint\u001b[0m\u001b[0;34m(\u001b[0m\u001b[0mnum1\u001b[0m\u001b[0;34m)\u001b[0m\u001b[0;34m\u001b[0m\u001b[0;34m\u001b[0m\u001b[0m\n\u001b[0;32m----> 6\u001b[0;31m \u001b[0my\u001b[0m \u001b[0;34m=\u001b[0m \u001b[0mint\u001b[0m\u001b[0;34m(\u001b[0m\u001b[0mnum2\u001b[0m\u001b[0;34m)\u001b[0m\u001b[0;34m\u001b[0m\u001b[0;34m\u001b[0m\u001b[0m\n\u001b[0m\u001b[1;32m      7\u001b[0m \u001b[0;34m\u001b[0m\u001b[0m\n\u001b[1;32m      8\u001b[0m \u001b[0;31m# a = int(num1) + int(num2)\u001b[0m\u001b[0;34m\u001b[0m\u001b[0;34m\u001b[0m\u001b[0;34m\u001b[0m\u001b[0m\n",
            "\u001b[0;31mValueError\u001b[0m: invalid literal for int() with base 10: 'b'"
          ]
        }
      ]
    },
    {
      "cell_type": "code",
      "metadata": {
        "colab": {
          "base_uri": "https://localhost:8080/"
        },
        "id": "lklmE955hV5j",
        "outputId": "a3de4fa3-6e1f-45ce-a44d-f4d66ef12ff4"
      },
      "source": [
        "# Third type of Conversion...\n",
        "\n",
        "num1 = int(input(\"Enter  first Number : \"))\n",
        "num2 = int(input(\"Enter Second Number : \"))\n",
        "\n",
        "\n",
        "print(num1+num2)\n",
        "print(num1-num2)\n",
        "print(num1*num2)"
      ],
      "execution_count": null,
      "outputs": [
        {
          "output_type": "stream",
          "text": [
            "Enter  first Number : 10\n",
            "Enter Second Number : 2\n",
            "12\n",
            "8\n",
            "20\n"
          ],
          "name": "stdout"
        }
      ]
    },
    {
      "cell_type": "code",
      "metadata": {
        "colab": {
          "base_uri": "https://localhost:8080/"
        },
        "id": "yMxkPpyBl-Dx",
        "outputId": "813d2a1a-f319-4a8d-a79b-9d06a438006d"
      },
      "source": [
        "import time\n",
        "num = \"72543\"\n",
        "s=0\n",
        "p =1\n",
        "for i in num:\n",
        "  print(\"i :\",i)\n",
        "  print(\"s :\",s)\n",
        "  print(\"p : \",p)\n",
        "  print(\"************\")\n",
        "  time.sleep(2)\n",
        "  s = s + int(i)\n",
        "  p = p * int(i)\n",
        "\n",
        "  print(s)\n",
        "  print(p)\n",
        "\n",
        "print(\"***********************\")\n",
        "print(s)\n",
        "print(p)"
      ],
      "execution_count": null,
      "outputs": [
        {
          "output_type": "stream",
          "text": [
            "i : 7\n",
            "s : 0\n",
            "p :  1\n",
            "************\n",
            "7\n",
            "7\n",
            "i : 2\n",
            "s : 7\n",
            "p :  7\n",
            "************\n",
            "9\n",
            "14\n",
            "i : 5\n",
            "s : 9\n",
            "p :  14\n",
            "************\n",
            "14\n",
            "70\n",
            "i : 4\n",
            "s : 14\n",
            "p :  70\n",
            "************\n",
            "18\n",
            "280\n",
            "i : 3\n",
            "s : 18\n",
            "p :  280\n",
            "************\n",
            "21\n",
            "840\n",
            "21\n"
          ],
          "name": "stdout"
        }
      ]
    },
    {
      "cell_type": "code",
      "metadata": {
        "id": "Zb0Lu0WWmEto"
      },
      "source": [
        "s = input(\"Enter a String : \")\n"
      ],
      "execution_count": null,
      "outputs": []
    },
    {
      "cell_type": "code",
      "metadata": {
        "colab": {
          "base_uri": "https://localhost:8080/"
        },
        "id": "xCkknlJRoR3Z",
        "outputId": "a71d432d-8451-4485-d200-c3a6dfaa1e30"
      },
      "source": [
        "ord(\"a\")"
      ],
      "execution_count": null,
      "outputs": [
        {
          "output_type": "execute_result",
          "data": {
            "text/plain": [
              "97"
            ]
          },
          "metadata": {
            "tags": []
          },
          "execution_count": 24
        }
      ]
    },
    {
      "cell_type": "code",
      "metadata": {
        "id": "O5SfsdIfoTlk"
      },
      "source": [
        "str1 = \"firstname_lastname.98@gmail.com\""
      ],
      "execution_count": null,
      "outputs": []
    },
    {
      "cell_type": "code",
      "metadata": {
        "id": "UrHe32E_t28y"
      },
      "source": [
        "a = str1.split(\"@\")"
      ],
      "execution_count": null,
      "outputs": []
    },
    {
      "cell_type": "code",
      "metadata": {
        "colab": {
          "base_uri": "https://localhost:8080/"
        },
        "id": "vkFg8_2Ft-Q9",
        "outputId": "4d838cb5-67ba-4c44-fdce-7fd5f9c3ccc8"
      },
      "source": [
        "a"
      ],
      "execution_count": null,
      "outputs": [
        {
          "output_type": "execute_result",
          "data": {
            "text/plain": [
              "['firstname_lastname.98', 'gmail.com']"
            ]
          },
          "metadata": {
            "tags": []
          },
          "execution_count": 28
        }
      ]
    },
    {
      "cell_type": "code",
      "metadata": {
        "id": "agnHqigrt-1y"
      },
      "source": [
        "b = a[0].split(\".\")"
      ],
      "execution_count": null,
      "outputs": []
    },
    {
      "cell_type": "code",
      "metadata": {
        "colab": {
          "base_uri": "https://localhost:8080/"
        },
        "id": "KjmJ5YBEuA8q",
        "outputId": "5a5ac9e0-8556-4c89-8d97-10dace706e2f"
      },
      "source": [
        "b"
      ],
      "execution_count": null,
      "outputs": [
        {
          "output_type": "execute_result",
          "data": {
            "text/plain": [
              "['firstname_lastname', '98']"
            ]
          },
          "metadata": {
            "tags": []
          },
          "execution_count": 31
        }
      ]
    },
    {
      "cell_type": "code",
      "metadata": {
        "id": "W1rbrpxjuGuE"
      },
      "source": [
        "y = \"19\"+b[1]"
      ],
      "execution_count": null,
      "outputs": []
    },
    {
      "cell_type": "code",
      "metadata": {
        "colab": {
          "base_uri": "https://localhost:8080/",
          "height": 36
        },
        "id": "9m4mYOvZuNTE",
        "outputId": "7babe39d-a340-4068-e7c3-74cd68c82d0d"
      },
      "source": [
        "y"
      ],
      "execution_count": null,
      "outputs": [
        {
          "output_type": "execute_result",
          "data": {
            "application/vnd.google.colaboratory.intrinsic+json": {
              "type": "string"
            },
            "text/plain": [
              "'1998'"
            ]
          },
          "metadata": {
            "tags": []
          },
          "execution_count": 33
        }
      ]
    },
    {
      "cell_type": "code",
      "metadata": {
        "colab": {
          "base_uri": "https://localhost:8080/"
        },
        "id": "lZ3816ImuN6O",
        "outputId": "8e26e5e4-e932-4895-f8a8-1f300a3d6933"
      },
      "source": [
        "2021 - int(y)"
      ],
      "execution_count": null,
      "outputs": [
        {
          "output_type": "execute_result",
          "data": {
            "text/plain": [
              "23"
            ]
          },
          "metadata": {
            "tags": []
          },
          "execution_count": 34
        }
      ]
    },
    {
      "cell_type": "code",
      "metadata": {
        "id": "M3KQEBx5uRJD"
      },
      "source": [
        "a = 100\n",
        "b = 200"
      ],
      "execution_count": null,
      "outputs": []
    },
    {
      "cell_type": "code",
      "metadata": {
        "colab": {
          "base_uri": "https://localhost:8080/"
        },
        "id": "kmmeNqCuut0o",
        "outputId": "ecde9531-5769-4715-f9ec-764aa8d7227d"
      },
      "source": [
        "print(a)\n",
        "print(b)"
      ],
      "execution_count": null,
      "outputs": [
        {
          "output_type": "stream",
          "text": [
            "100\n",
            "200\n"
          ],
          "name": "stdout"
        }
      ]
    },
    {
      "cell_type": "code",
      "metadata": {
        "id": "p_Det8Ttuuot"
      },
      "source": [
        ""
      ],
      "execution_count": null,
      "outputs": []
    }
  ]
}